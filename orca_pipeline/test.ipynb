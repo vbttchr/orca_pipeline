{
 "cells": [
  {
   "cell_type": "code",
   "execution_count": 13,
   "metadata": {},
   "outputs": [],
   "source": [
    "lines=open(\"Reaction_neb-fast-TS_trj.xyz\",\"r\").readlines()\n",
    "n_atoms=int(lines[0])\n",
    "lines =lines[0:n_atoms+2]\n",
    "lines\n",
    "open(\"Reaction_neb-fast-TS_guess.xyz\",\"w\").writelines(lines)"
   ]
  }
 ],
 "metadata": {
  "kernelspec": {
   "display_name": "venvy",
   "language": "python",
   "name": "python3"
  },
  "language_info": {
   "codemirror_mode": {
    "name": "ipython",
    "version": 3
   },
   "file_extension": ".py",
   "mimetype": "text/x-python",
   "name": "python",
   "nbconvert_exporter": "python",
   "pygments_lexer": "ipython3",
   "version": "3.11.6"
  }
 },
 "nbformat": 4,
 "nbformat_minor": 2
}
